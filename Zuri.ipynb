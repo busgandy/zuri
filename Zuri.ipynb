{
  "nbformat": 4,
  "nbformat_minor": 0,
  "metadata": {
    "colab": {
      "name": "Zuri.ipynb",
      "provenance": [],
      "authorship_tag": "ABX9TyPdwrpZmOKrx3H0vrGrOpMx",
      "include_colab_link": true
    },
    "kernelspec": {
      "name": "python3",
      "display_name": "Python 3"
    }
  },
  "cells": [
    {
      "cell_type": "markdown",
      "metadata": {
        "id": "view-in-github",
        "colab_type": "text"
      },
      "source": [
        "<a href=\"https://colab.research.google.com/github/busgandy/zuri/blob/main/Zuri.ipynb\" target=\"_parent\"><img src=\"https://colab.research.google.com/assets/colab-badge.svg\" alt=\"Open In Colab\"/></a>"
      ]
    },
    {
      "cell_type": "code",
      "metadata": {
        "id": "xGIc0D5LNXNU",
        "colab": {
          "base_uri": "https://localhost:8080/"
        },
        "outputId": "e3b0b033-4dbb-4edb-a0ce-cf82c3a43c95"
      },
      "source": [
        "\n",
        "def main():\n",
        "  dictionary = {}\n",
        "  dictionary[\"learning\"] = \"awesome\"\n",
        "  dictionary[\"coding\"] = \"fun\"\n",
        "  dictionary[\"teacher\"] = \"student\"\n",
        "  dictionary[\"python\"] = \"cool\"\n",
        "  dictionary[\"code\"] = \"inplace\"\n",
        "  dictionary[\"karel\"] = \"robot\"\n",
        "  dictionary[\"learn\"] = \"awe\"\n",
        "\n",
        "  print (dictionary)\n",
        "  remove_keys_containing_string(dictionary, \"learn\")\n",
        "  print(dictionary)\n",
        "  \"\"\"\n",
        " This Python function takes in a dict and a string and removes all keys containing that string from the dict\n",
        "  \"\"\"\n",
        "\n",
        "def remove_keys_containing_string(dictionary, remove):\n",
        "  while remove in dictionary:\n",
        "    for key in dictionary:\n",
        "      if remove in key:\n",
        "        del dictionary[key]\n",
        "        break\n",
        "\n",
        "if __name__==\"__main__\":\n",
        "  main()\n",
        "\n"
      ],
      "execution_count": null,
      "outputs": [
        {
          "output_type": "stream",
          "text": [
            "{'learning': 'awesome', 'coding': 'fun', 'teacher': 'student', 'python': 'cool', 'code': 'inplace', 'karel': 'robot', 'learn': 'awe'}\n",
            "{'coding': 'fun', 'teacher': 'student', 'python': 'cool', 'code': 'inplace', 'karel': 'robot'}\n"
          ],
          "name": "stdout"
        }
      ]
    },
    {
      "cell_type": "code",
      "metadata": {
        "id": "gknfr6O5Tjos"
      },
      "source": [
        "\n",
        "def main():\n",
        "  dictionary = {}\n",
        "  dictionary[\"learning\"] = \"awesome\"\n",
        "  dictionary[\"coding\"] = \"fun\"\n",
        "  dictionary[\"teacher\"] = \"student\"\n",
        "  dictionary[\"python\"] = \"cool\"\n",
        "  dictionary[\"code\"] = \"inplace\"\n",
        "  dictionary[\"karel\"] = \"robot\"\n",
        "\n",
        "  print (dictionary)\n",
        "  remove_keys_containing_string(dictionary, \"learn\")\n",
        "  \"\"\"\n",
        " This Python function takes in a dict and a string and removes all keys containing that string from the dict\n",
        "  \"\"\"\n",
        "\n",
        "def remove_keys_containing_string(dictionary, remove):\n",
        "  toRemove = None\n",
        "  for key in dictionary:\n",
        "    for i in range(len(key)):\n",
        "      if key[i:i+1] == remove:\n",
        "        toRemove.add(key)\n",
        "        if toRemove != None:\n",
        "          for key in toRemove:\n",
        "            del dictionary[key]\n",
        "\n",
        "\n",
        "print(dictionary)"
      ],
      "execution_count": null,
      "outputs": []
    },
    {
      "cell_type": "code",
      "metadata": {
        "id": "TFF1ia1KXt0P"
      },
      "source": [
        ""
      ],
      "execution_count": null,
      "outputs": []
    },
    {
      "cell_type": "markdown",
      "metadata": {
        "id": "95joH2-OXvdd"
      },
      "source": [
        "**Code in Place**"
      ]
    },
    {
      "cell_type": "code",
      "metadata": {
        "id": "sNnzJAHOX9PJ"
      },
      "source": [
        "Enter a weight on earth: 120\n",
        "The equivalent weight on Mars: 45.36"
      ],
      "execution_count": null,
      "outputs": []
    },
    {
      "cell_type": "code",
      "metadata": {
        "id": "SiHkXGrSX9Sg"
      },
      "source": [
        "marss = "
      ],
      "execution_count": null,
      "outputs": []
    },
    {
      "cell_type": "markdown",
      "metadata": {
        "id": "fv3G-4-TYLhD"
      },
      "source": [
        "**An earthling's weight on Mars is 37.8% of their weight on earth. Write a Python program that prompts the user (an earthling) to enter their weight on earth and prints their calculated weight on Mars.**"
      ]
    },
    {
      "cell_type": "code",
      "metadata": {
        "colab": {
          "base_uri": "https://localhost:8080/"
        },
        "id": "YajIUwaLYZET",
        "outputId": "0c75d4d6-6151-46ab-8d4a-e91651e3b32a"
      },
      "source": [
        "MARS_MULTIPLE = (37.8/100)\n",
        "\n",
        "def main():\n",
        "  # Lets get a user input of their weight\n",
        "  earth_weight_str = input('Enter a weight on earth: ')\n",
        "  # input() function returns a value in string form\n",
        "  # We need to convert this form to a float, for us to be able to work on\n",
        "  earth_weight_float = float(earth_weight_str)\n",
        "\n",
        "  # Now, lets calculate the weight on Mars\n",
        "\n",
        "  mars_weight = earth_weight_float * MARS_MULTIPLE\n",
        "\n",
        "  mars_weight_str = str(mars_weight)\n",
        "\n",
        "  print('The equivalent weight on Mars:', mars_weight)\n",
        "\n",
        "if __name__ == '__main__':\n",
        "    main()\n"
      ],
      "execution_count": null,
      "outputs": [
        {
          "output_type": "stream",
          "text": [
            "Enter a weight on earth: 120\n",
            "The equivalent weight on Mars: 45.35999999999999\n"
          ],
          "name": "stdout"
        }
      ]
    },
    {
      "cell_type": "code",
      "metadata": {
        "id": "bTAEOBtuemoR"
      },
      "source": [
        ""
      ],
      "execution_count": null,
      "outputs": []
    },
    {
      "cell_type": "code",
      "metadata": {
        "id": "bpVxHaIJXt3h"
      },
      "source": [
        "# File: marsweight.py\n",
        "\n",
        "# we use constants!\n",
        "MARS_MULTIPLE = 0.378\n",
        "\n",
        "def main():\n",
        "        # technically weight is measured in newtons, but one of your\n",
        "        # goals is to focus on the python, not the physics!\n",
        "    earth_weight_str = input('Enter a weight on earth: ')\n",
        "\n",
        "        # input() returns a value in string form, get the number out\n",
        "    earth_weight = float(earth_weight_str)\n",
        "\n",
        "        # more variables is good times when first learning\n",
        "    mars_weight = earth_weight * MARS_MULTIPLE\n",
        "\n",
        "        # note the string concatenation!\n",
        "    print('The equivalent weight on Mars: ' + str(mars_weight))\n",
        "\n",
        "if __name__ == '__main__':\n",
        "    main()"
      ],
      "execution_count": null,
      "outputs": []
    },
    {
      "cell_type": "markdown",
      "metadata": {
        "id": "E2XJElV9HB1I"
      },
      "source": [
        "**ZURI Task**\n",
        "\n",
        "---\n",
        "\n",
        "\n",
        "Write simple \"Hello World\" code using python, take a single screenshot showing your code and the output, and submit."
      ]
    },
    {
      "cell_type": "code",
      "metadata": {
        "colab": {
          "base_uri": "https://localhost:8080/"
        },
        "id": "ADDaufT_GveT",
        "outputId": "457e188f-f82c-4123-ac06-9578a6818063"
      },
      "source": [
        "def main():\n",
        "  # Code to print out Hello World\n",
        "  # Print function takes in various arguments\n",
        "  # print(value, ..., sep=' ', end='\\n', file=sys.stdout, flush=False)\n",
        "  # Prints the values to a stream, or to sys.stdout by default\n",
        "  # We shall be making use of the major argument -  VALUE, to print out our string.\n",
        "  # Other arguments are OPTIONAL\n",
        "\n",
        "  print(\"Hello World\")\n",
        "if __name__ == '__main__':\n",
        "    main()"
      ],
      "execution_count": null,
      "outputs": [
        {
          "output_type": "stream",
          "text": [
            "Hello World\n"
          ],
          "name": "stdout"
        }
      ]
    },
    {
      "cell_type": "code",
      "metadata": {
        "colab": {
          "base_uri": "https://localhost:8080/"
        },
        "id": "Lu7reL7XZWSD",
        "outputId": "150d6a9b-f071-4ace-8f0a-77f1278c778d"
      },
      "source": [
        "name = \"Busayo\"\n",
        "print(f\"The name is: {name}\")"
      ],
      "execution_count": null,
      "outputs": [
        {
          "output_type": "stream",
          "text": [
            "The name is: Busayo\n"
          ],
          "name": "stdout"
        }
      ]
    },
    {
      "cell_type": "code",
      "metadata": {
        "colab": {
          "base_uri": "https://localhost:8080/",
          "height": 282
        },
        "id": "_3-NwStairVR",
        "outputId": "7a04e9e2-b819-4420-92a0-7448c70c3033"
      },
      "source": [
        "name = input(\"What is your name?\")\n",
        "allowedUsers = [\"Seyi\", \"Mike\", \"Love\"]\n",
        "allowedPassword = [\"passwordSeyi\", \"passwordMike\", \"passwordLove\"]\n",
        "\n",
        "if (name in allowedUsers):\n",
        "  password = input(\"Your password? \\n\")\n",
        "  userId = allowedUsers.index(name)\n",
        "\n",
        "  if(password == allowedPassword[userId]):\n",
        "    today = datetime.now()\n",
        "    print(\"===============================\")\n",
        "    print(today)\n",
        "    print(\"===============================\")\n",
        "    print(f\"Welcome {name}\")\n",
        "    print(\"These are the available options:\")\n",
        "    print(\"1. Withdrawal\")\n",
        "    print(\"2. Cash Deposit\")\n",
        "    print(\"3. Complaint\")\n",
        "\n",
        "    selectedOption = int(input(\"Please select an option:\"))\n",
        "\n",
        "    if(selectedOption == 1):\n",
        "      option_one = input(\"How much would you like to withdraw\")\n",
        "      print(\"take your cash\")\n",
        "      print(\"===============================\")\n",
        "      print(f\"#{option_one}\")\n",
        "\n",
        "    elif(selectedOption == 2):\n",
        "      option_two = input(\"How much would you like to deposit?\")\n",
        "      print(f\"You Current balance is: #{option_two}.\")\n",
        "\n",
        "    elif(selectedOption == 3):\n",
        "      option_three = input (\"What issue will you like to report?\")\n",
        "      print(\"Thank you for contacting us\")\n",
        "\n",
        "    else:\n",
        "      print(\"Invalid Option selected, please try again\")\n",
        "\n",
        "  else:\n",
        "    print(\"Password Incorrect, please try again\")\n",
        "else:\n",
        "  print(\"Name not found, please try again\")\n"
      ],
      "execution_count": null,
      "outputs": [
        {
          "output_type": "stream",
          "text": [
            "What is your name?Seyi\n",
            "Your password? \n",
            "passwordSeyi\n"
          ],
          "name": "stdout"
        },
        {
          "output_type": "error",
          "ename": "NameError",
          "evalue": "ignored",
          "traceback": [
            "\u001b[0;31m---------------------------------------------------------------------------\u001b[0m",
            "\u001b[0;31mNameError\u001b[0m                                 Traceback (most recent call last)",
            "\u001b[0;32m<ipython-input-13-eca4cc34a66e>\u001b[0m in \u001b[0;36m<module>\u001b[0;34m()\u001b[0m\n\u001b[1;32m      8\u001b[0m \u001b[0;34m\u001b[0m\u001b[0m\n\u001b[1;32m      9\u001b[0m   \u001b[0;32mif\u001b[0m\u001b[0;34m(\u001b[0m\u001b[0mpassword\u001b[0m \u001b[0;34m==\u001b[0m \u001b[0mallowedPassword\u001b[0m\u001b[0;34m[\u001b[0m\u001b[0muserId\u001b[0m\u001b[0;34m]\u001b[0m\u001b[0;34m)\u001b[0m\u001b[0;34m:\u001b[0m\u001b[0;34m\u001b[0m\u001b[0;34m\u001b[0m\u001b[0m\n\u001b[0;32m---> 10\u001b[0;31m     \u001b[0mtoday\u001b[0m \u001b[0;34m=\u001b[0m \u001b[0mdatetime\u001b[0m\u001b[0;34m.\u001b[0m\u001b[0mnow\u001b[0m\u001b[0;34m(\u001b[0m\u001b[0;34m)\u001b[0m\u001b[0;34m\u001b[0m\u001b[0;34m\u001b[0m\u001b[0m\n\u001b[0m\u001b[1;32m     11\u001b[0m     \u001b[0mprint\u001b[0m\u001b[0;34m(\u001b[0m\u001b[0;34m\"===============================\"\u001b[0m\u001b[0;34m)\u001b[0m\u001b[0;34m\u001b[0m\u001b[0;34m\u001b[0m\u001b[0m\n\u001b[1;32m     12\u001b[0m     \u001b[0mprint\u001b[0m\u001b[0;34m(\u001b[0m\u001b[0mtoday\u001b[0m\u001b[0;34m)\u001b[0m\u001b[0;34m\u001b[0m\u001b[0;34m\u001b[0m\u001b[0m\n",
            "\u001b[0;31mNameError\u001b[0m: name 'datetime' is not defined"
          ]
        }
      ]
    },
    {
      "cell_type": "code",
      "metadata": {
        "id": "eJSjpB_PQRGv"
      },
      "source": [
        "from datetime import datetime\n",
        "\n",
        "def main():\n",
        "  name = input(\"What is your name?\")\n",
        "  allowedUsers = [\"Seyi\", \"Mike\", \"Love\"]\n",
        "  allowedPassword = [\"passwordSeyi\", \"passwordMike\", \"passwordLove\"]\n",
        "\n",
        "  if (name in allowedUsers):\n",
        "    password = input(\"Your password? \\n\")\n",
        "    userId = allowedUsers.index(name)\n",
        "\n",
        "    if (password == allowedPassword[userId]):\n",
        "      now = datetime.now()\n",
        "      today = now.strftime(\"%d/%m/%Y %H:%M:%S\")\n",
        "      print(\"===============================\")\n",
        "      print(today)\n",
        "      print(\"===============================\")\n",
        "      print(f\"Welcome {name}\")\n",
        "      print(\"These are the available options:\")\n",
        "      print(\"1. Withdrawal\")\n",
        "      print(\"2. Cash Deposit\")\n",
        "      print(\"3. Complaint\")\n",
        "\n",
        "      selectedOption = int(input(\"Please select an option:\"))\n",
        "\n",
        "      if (selectedOption == 1):\n",
        "        option_one = input(\"How much would you like to withdraw\")\n",
        "        print(\"take your cash\")\n",
        "        print(\"===============================\")\n",
        "        print(f\"#{option_one}\")\n",
        "\n",
        "      elif (selectedOption == 2):\n",
        "        option_two = input(\"How much would you like to deposit?\")\n",
        "        print(f\"You Current balance is: #{option_two}.\")\n",
        "\n",
        "      elif (selectedOption == 3):\n",
        "        option_three = input = (\"What issue will you like to report?\")\n",
        "        print(\"Thank you for contacting us\")\n",
        "\n",
        "      else:\n",
        "        print(\"Invalid Option selected, please try again\")\n",
        "\n",
        "    else:\n",
        "      print(\"Password Incorrect, please try again\")\n",
        "  else:\n",
        "    print(\"Name not found, please try again\")\n",
        "\n",
        "\n",
        "if __name__== \"__main__\":\n",
        "  main()"
      ],
      "execution_count": null,
      "outputs": []
    },
    {
      "cell_type": "markdown",
      "metadata": {
        "id": "VADb9EUS2s5z"
      },
      "source": [
        "**Zuri ATM Task**"
      ]
    },
    {
      "cell_type": "code",
      "metadata": {
        "colab": {
          "base_uri": "https://localhost:8080/"
        },
        "id": "a06n2CiVTLbF",
        "outputId": "22982a51-5509-4191-e025-99e58ba66d91"
      },
      "source": [
        "\n",
        "from datetime import datetime\n",
        "\n",
        "\n",
        "name = input(\"What is your name?\")\n",
        "allowedUsers = [\"Seyi\", \"Mike\", \"Love\"]\n",
        "allowedPassword = [\"passwordSeyi\", \"passwordMike\", \"passwordLove\"]\n",
        "\n",
        "if (name in allowedUsers):\n",
        "    password = input(\"Your password? \\n\")\n",
        "    userId = allowedUsers.index(name)\n",
        "    if (password == allowedPassword[userId]):\n",
        "        now = datetime.now()\n",
        "        today = now.strftime(\"%d/%m/%Y %H:%M:%S\")\n",
        "        print(\"===============================\")\n",
        "        print(today)\n",
        "        print(\"===============================\")\n",
        "        print(f\"Welcome {name}\")\n",
        "        print(\"These are the available options:\")\n",
        "        print(\"1. Withdrawal\")\n",
        "        print(\"2. Cash Deposit\")\n",
        "        print(\"3. Complaint\")\n",
        "        \n",
        "        selectedOption = int(input(\"Please select an option:\"))\n",
        "        if (selectedOption == 1):\n",
        "            option_one = input(\"How much would you like to withdraw\")\n",
        "            print(\"take your cash\")\n",
        "            print(\"===============================\")\n",
        "            print(f\"#{option_one}\")\n",
        "\n",
        "        elif (selectedOption == 2):\n",
        "            option_two = input(\"How much would you like to deposit?\")\n",
        "            print(f\"You Current balance is: #{option_two}.\")\n",
        "\n",
        "        elif (selectedOption == 3):\n",
        "            option_three = input (\"What issue will you like to report?\")\n",
        "            print(\"Thank you for contacting us\")\n",
        "\n",
        "        else:\n",
        "            print(\"Invalid Option selected, please try again\")\n",
        "\n",
        "    else:\n",
        "        print(\"Password Incorrect, please try again\")\n",
        "\n",
        "else:\n",
        "    print(\"Name not found, please try again\")\n"
      ],
      "execution_count": 1,
      "outputs": [
        {
          "output_type": "stream",
          "text": [
            "What is your name?Seyi\n",
            "Your password? \n",
            "passwordSeyi\n",
            "===============================\n",
            "02/04/2021 09:13:05\n",
            "===============================\n",
            "Welcome Seyi\n",
            "These are the available options:\n",
            "1. Withdrawal\n",
            "2. Cash Deposit\n",
            "3. Complaint\n",
            "Please select an option:3\n",
            "What issue will you like to report?edrftgyhujikl\n",
            "Thank you for contacting us\n"
          ],
          "name": "stdout"
        }
      ]
    },
    {
      "cell_type": "code",
      "metadata": {
        "id": "2u460Yqa9cXl"
      },
      "source": [
        ""
      ],
      "execution_count": null,
      "outputs": []
    }
  ]
}